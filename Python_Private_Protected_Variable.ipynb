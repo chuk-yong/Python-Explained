{
  "nbformat": 4,
  "nbformat_minor": 0,
  "metadata": {
    "colab": {
      "name": "Python-Private-Protected-Variable.ipynb",
      "provenance": [],
      "authorship_tag": "ABX9TyNUfLh9pHfWQgO/DUYD5kgr",
      "include_colab_link": true
    },
    "kernelspec": {
      "name": "python3",
      "display_name": "Python 3"
    },
    "language_info": {
      "name": "python"
    }
  },
  "cells": [
    {
      "cell_type": "markdown",
      "metadata": {
        "id": "view-in-github",
        "colab_type": "text"
      },
      "source": [
        "<a href=\"https://colab.research.google.com/github/chuk-yong/Python-Explained/blob/main/Python_Private_Protected_Variable.ipynb\" target=\"_parent\"><img src=\"https://colab.research.google.com/assets/colab-badge.svg\" alt=\"Open In Colab\"/></a>"
      ]
    },
    {
      "cell_type": "markdown",
      "source": [
        "## Python's Private and Protected Variables\n",
        "\n",
        "The use of _var and __var requires some attention.\n",
        "\n",
        "_var is more of an convention.  It's for telling fellow coder, developer not to use it outside of class or method.  It is just an advice, because if you want to, you can still call it outside the class/method.\n",
        "\n",
        "__var is protected.  Python will ensure that you cannot access it outside of the class/method.  An error will be raise.\n",
        "\n",
        "See example below:"
      ],
      "metadata": {
        "id": "EvpaFSvBsvxE"
      }
    },
    {
      "cell_type": "code",
      "source": [
        "class func1:\n",
        "  def __init__(self, n):\n",
        "    self._private = n\n",
        "    self.__protected = n+1\n"
      ],
      "metadata": {
        "id": "BiYWzyfctiPM"
      },
      "execution_count": null,
      "outputs": []
    },
    {
      "cell_type": "code",
      "source": [
        "f = func1(9)\n",
        "print(f._private)\n",
        "print(f.__protected)"
      ],
      "metadata": {
        "colab": {
          "base_uri": "https://localhost:8080/",
          "height": 218
        },
        "id": "5Ash44pLuQaw",
        "outputId": "2486bfa2-f206-4ce2-e65d-fea87253f094"
      },
      "execution_count": null,
      "outputs": [
        {
          "output_type": "stream",
          "name": "stdout",
          "text": [
            "9\n"
          ]
        },
        {
          "output_type": "error",
          "ename": "AttributeError",
          "evalue": "ignored",
          "traceback": [
            "\u001b[0;31m---------------------------------------------------------------------------\u001b[0m",
            "\u001b[0;31mAttributeError\u001b[0m                            Traceback (most recent call last)",
            "\u001b[0;32m<ipython-input-4-a1dba861cd46>\u001b[0m in \u001b[0;36m<module>\u001b[0;34m()\u001b[0m\n\u001b[1;32m      1\u001b[0m \u001b[0mf\u001b[0m \u001b[0;34m=\u001b[0m \u001b[0mfunc1\u001b[0m\u001b[0;34m(\u001b[0m\u001b[0;36m9\u001b[0m\u001b[0;34m)\u001b[0m\u001b[0;34m\u001b[0m\u001b[0;34m\u001b[0m\u001b[0m\n\u001b[1;32m      2\u001b[0m \u001b[0mprint\u001b[0m\u001b[0;34m(\u001b[0m\u001b[0mf\u001b[0m\u001b[0;34m.\u001b[0m\u001b[0m_private\u001b[0m\u001b[0;34m)\u001b[0m\u001b[0;34m\u001b[0m\u001b[0;34m\u001b[0m\u001b[0m\n\u001b[0;32m----> 3\u001b[0;31m \u001b[0mprint\u001b[0m\u001b[0;34m(\u001b[0m\u001b[0mf\u001b[0m\u001b[0;34m.\u001b[0m\u001b[0m__protected\u001b[0m\u001b[0;34m)\u001b[0m\u001b[0;34m\u001b[0m\u001b[0;34m\u001b[0m\u001b[0m\n\u001b[0m",
            "\u001b[0;31mAttributeError\u001b[0m: 'func1' object has no attribute '__protected'"
          ]
        }
      ]
    }
  ]
}